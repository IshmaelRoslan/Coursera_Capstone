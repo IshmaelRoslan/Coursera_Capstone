{
    "cells": [
        {
            "cell_type": "markdown",
            "metadata": {
                "collapsed": true
            },
            "source": "# Segmenting and Clustering Neighborhoods"
        },
        {
            "cell_type": "markdown",
            "metadata": {},
            "source": "First we need to import the required libraries for the  project."
        },
        {
            "cell_type": "code",
            "execution_count": 1,
            "metadata": {},
            "outputs": [],
            "source": "#importing required libraries\nimport pandas as pd\nimport numpy as np\nfrom bs4 import BeautifulSoup\nimport requests"
        },
        {
            "cell_type": "markdown",
            "metadata": {},
            "source": "### Import Data\n1. I retrieved the data from the source website using the requests library.\n2. Use Beautiful Soup to find instances of 'table' on the website.\n3. Use pandas to convert it into a dataframe."
        },
        {
            "cell_type": "code",
            "execution_count": 2,
            "metadata": {},
            "outputs": [],
            "source": "url='https://en.wikipedia.org/wiki/List_of_postal_codes_of_Canada:_M' #identify url\nsource = requests.get(url).text #scrape the website\nsoup = BeautifulSoup(source, 'lxml') #parse the code\ntable = soup.find_all('table') #find instances of table\ndf = pd.read_html(str(table))[0] #convert to data frame"
        },
        {
            "cell_type": "markdown",
            "metadata": {},
            "source": "### Identify  Missing Values\nBefore cleaning the data had 180 rows.\nAfter using `.describe()` I could see that there were 180 unique values for Postal Code but  77 \"Not Assigned\" Boroughs."
        },
        {
            "cell_type": "code",
            "execution_count": 3,
            "metadata": {},
            "outputs": [
                {
                    "data": {
                        "text/html": "<div>\n<style scoped>\n    .dataframe tbody tr th:only-of-type {\n        vertical-align: middle;\n    }\n\n    .dataframe tbody tr th {\n        vertical-align: top;\n    }\n\n    .dataframe thead th {\n        text-align: right;\n    }\n</style>\n<table border=\"1\" class=\"dataframe\">\n  <thead>\n    <tr style=\"text-align: right;\">\n      <th></th>\n      <th>Postal code</th>\n      <th>Borough</th>\n      <th>Neighborhood</th>\n    </tr>\n  </thead>\n  <tbody>\n    <tr>\n      <th>count</th>\n      <td>180</td>\n      <td>180</td>\n      <td>103</td>\n    </tr>\n    <tr>\n      <th>unique</th>\n      <td>180</td>\n      <td>11</td>\n      <td>98</td>\n    </tr>\n    <tr>\n      <th>top</th>\n      <td>M8X</td>\n      <td>Not assigned</td>\n      <td>Downsview</td>\n    </tr>\n    <tr>\n      <th>freq</th>\n      <td>1</td>\n      <td>77</td>\n      <td>4</td>\n    </tr>\n  </tbody>\n</table>\n</div>",
                        "text/plain": "       Postal code       Borough Neighborhood\ncount          180           180          103\nunique         180            11           98\ntop            M8X  Not assigned    Downsview\nfreq             1            77            4"
                    },
                    "execution_count": 3,
                    "metadata": {},
                    "output_type": "execute_result"
                }
            ],
            "source": "df.describe()"
        },
        {
            "cell_type": "markdown",
            "metadata": {},
            "source": "### Deal with missing values\nAfter removing those I could see that I now had 103 rows."
        },
        {
            "cell_type": "code",
            "execution_count": 4,
            "metadata": {},
            "outputs": [
                {
                    "name": "stdout",
                    "output_type": "stream",
                    "text": "Before Cleaning (180, 3)\nRemoved Not Assigned (103, 3)\n"
                }
            ],
            "source": "print(\"Before Cleaning\",df.shape)\ndf = df[df['Borough']!=\"Not assigned\"] #Remove Not Assigned from Borough\nprint(\"Removed Not Assigned\",df.shape)"
        },
        {
            "cell_type": "markdown",
            "metadata": {},
            "source": "The assignment instructions stated:\n>If a cell has a borough but a Not assigned neighborhood, then the neighborhood will be the same as the borough.\n\nHowever, when I tried to find any unassigned there weren't any!"
        },
        {
            "cell_type": "code",
            "execution_count": 5,
            "metadata": {},
            "outputs": [
                {
                    "data": {
                        "text/html": "<div>\n<style scoped>\n    .dataframe tbody tr th:only-of-type {\n        vertical-align: middle;\n    }\n\n    .dataframe tbody tr th {\n        vertical-align: top;\n    }\n\n    .dataframe thead th {\n        text-align: right;\n    }\n</style>\n<table border=\"1\" class=\"dataframe\">\n  <thead>\n    <tr style=\"text-align: right;\">\n      <th></th>\n    </tr>\n    <tr>\n      <th>Neighborhood</th>\n    </tr>\n  </thead>\n  <tbody>\n    <tr>\n      <th>False</th>\n    </tr>\n  </tbody>\n</table>\n</div>",
                        "text/plain": "Empty DataFrame\nColumns: []\nIndex: [False]"
                    },
                    "execution_count": 5,
                    "metadata": {},
                    "output_type": "execute_result"
                }
            ],
            "source": "df[['Neighborhood']].isna().groupby('Neighborhood').count()"
        },
        {
            "cell_type": "code",
            "execution_count": 6,
            "metadata": {},
            "outputs": [],
            "source": "#Commented out as the code is redundant. There is no data that meets those requirements for cleaning\n    #df = df[df['Neighborhood']!=np.nan]\n    #print(\"Removed Nulls Cleaning\",df.shape)"
        },
        {
            "cell_type": "markdown",
            "metadata": {},
            "source": "### Correct the data format\nNext, I reformatted the Neighborhood column so that the \" /\" were replaced with \",\".\nI then re-indexed to reflect the missing columns."
        },
        {
            "cell_type": "code",
            "execution_count": 7,
            "metadata": {},
            "outputs": [],
            "source": "df['Neighborhood']  = df['Neighborhood'].str.replace(\" /\", \",\")  # replaced / with ,\ndf.reset_index(drop=True,inplace=True)"
        },
        {
            "cell_type": "markdown",
            "metadata": {},
            "source": "### Commentary\nWhilst there are expected duplicates in the borough column, I can see there are no duplicates in the postal code column.\\\nThere are however, duplicates in the Neighborhood column."
        },
        {
            "cell_type": "code",
            "execution_count": 8,
            "metadata": {},
            "outputs": [
                {
                    "data": {
                        "text/html": "<div>\n<style scoped>\n    .dataframe tbody tr th:only-of-type {\n        vertical-align: middle;\n    }\n\n    .dataframe tbody tr th {\n        vertical-align: top;\n    }\n\n    .dataframe thead th {\n        text-align: right;\n    }\n</style>\n<table border=\"1\" class=\"dataframe\">\n  <thead>\n    <tr style=\"text-align: right;\">\n      <th></th>\n      <th>Postal code</th>\n      <th>Borough</th>\n      <th>Neighborhood</th>\n    </tr>\n  </thead>\n  <tbody>\n    <tr>\n      <th>count</th>\n      <td>103</td>\n      <td>103</td>\n      <td>103</td>\n    </tr>\n    <tr>\n      <th>unique</th>\n      <td>103</td>\n      <td>10</td>\n      <td>98</td>\n    </tr>\n    <tr>\n      <th>top</th>\n      <td>M9N</td>\n      <td>North York</td>\n      <td>Downsview</td>\n    </tr>\n    <tr>\n      <th>freq</th>\n      <td>1</td>\n      <td>24</td>\n      <td>4</td>\n    </tr>\n  </tbody>\n</table>\n</div>",
                        "text/plain": "       Postal code     Borough Neighborhood\ncount          103         103          103\nunique         103          10           98\ntop            M9N  North York    Downsview\nfreq             1          24            4"
                    },
                    "execution_count": 8,
                    "metadata": {},
                    "output_type": "execute_result"
                }
            ],
            "source": "df.describe(include='all')"
        },
        {
            "cell_type": "markdown",
            "metadata": {},
            "source": "### Assumptions\nI will assume that those duplicates are due to a Neighborhood spanning multiple postcodes but only **a single borough per Neighborhood**.\\\nThe code below also shows that there are no hidden duplicates of Borough, through different spellings or formats."
        },
        {
            "cell_type": "code",
            "execution_count": 9,
            "metadata": {},
            "outputs": [
                {
                    "data": {
                        "text/plain": "North York          24\nDowntown Toronto    19\nScarborough         17\nEtobicoke           12\nCentral Toronto      9\nWest Toronto         6\nEast York            5\nYork                 5\nEast Toronto         5\nMississauga          1\nName: Borough, dtype: int64"
                    },
                    "execution_count": 9,
                    "metadata": {},
                    "output_type": "execute_result"
                }
            ],
            "source": "df['Borough'].value_counts()"
        },
        {
            "cell_type": "markdown",
            "metadata": {},
            "source": "#### Let's see  what the final data frame looks like."
        },
        {
            "cell_type": "code",
            "execution_count": 10,
            "metadata": {},
            "outputs": [
                {
                    "data": {
                        "text/plain": "(103, 3)"
                    },
                    "execution_count": 10,
                    "metadata": {},
                    "output_type": "execute_result"
                }
            ],
            "source": "df.shape"
        }
    ],
    "metadata": {
        "kernelspec": {
            "display_name": "Python 3.6",
            "language": "python",
            "name": "python3"
        },
        "language_info": {
            "codemirror_mode": {
                "name": "ipython",
                "version": 3
            },
            "file_extension": ".py",
            "mimetype": "text/x-python",
            "name": "python",
            "nbconvert_exporter": "python",
            "pygments_lexer": "ipython3",
            "version": "3.6.9"
        }
    },
    "nbformat": 4,
    "nbformat_minor": 1
}